{
 "cells": [
  {
   "cell_type": "markdown",
   "metadata": {
    "colab_type": "text",
    "id": "ylixGHVOvAqB"
   },
   "source": [
    "##Classwork"
   ]
  },
  {
   "cell_type": "markdown",
   "metadata": {
    "colab_type": "text",
    "id": "WbpgWXdHvgV8"
   },
   "source": [
    "1.  генератор названий компаний (почти как генератор паролей)"
   ]
  },
  {
   "cell_type": "code",
   "execution_count": 6,
   "metadata": {
    "colab": {
     "base_uri": "https://localhost:8080/",
     "height": 34
    },
    "colab_type": "code",
    "id": "lIwa6cOqvcTs",
    "outputId": "9ab23b6b-f4ce-4597-ec6c-88c3f1d29ff8"
   },
   "outputs": [
    {
     "name": "stdout",
     "output_type": "stream",
     "text": [
      "югтекстильнефтьинвестфармнано\n"
     ]
    }
   ],
   "source": [
    "import random\n",
    "\n",
    "names = [\"пром\",\"агро\",\"торг\",\"урал\",\"север\",\"юг\",\"техно\",\n",
    "\"экспо\",\"метал\",\"нефть\",\"сельхоз\",\"фарм\",\"строй\",\n",
    "\"кредит\",\"алмаз\",\"-девелопмент\",\"развитие\",\"мос\",\n",
    "\"рос\",\"кубань\",\"сибирь\",\"восток\",\"нано\",\"софт\",\n",
    "\"микро\",\"онлайн\",\"инвест\",\"текстиль\",\"цемент\"]\n",
    "\n",
    "company = '' \n",
    "\n",
    "for x in range(6): \n",
    "    company = company + random.choice(names)\n",
    "\n",
    "print(company)"
   ]
  },
  {
   "cell_type": "markdown",
   "metadata": {
    "colab_type": "text",
    "id": "2yJufW6c1J2r"
   },
   "source": [
    "2. Транслитератор\n",
    "\n",
    "Напишите программу, которая будет транситерировать текст (собака >> sobaka)\n",
    "\n",
    "Вам нужно: \n",
    "1. написать побуквенный транслитератор с кириллицы на латиницу(здесь нужно ипользовать словарь)\n",
    "\n",
    "2. \"обернуть\" ваш код транслитератора в функцию\n",
    "\n",
    "3. применить функцию к тексту (возьмите любой, на ваш выбор, длиной от 2 до 7 предложений. Хорошая идея - искать в статьях на Википедии)\n",
    "    \n",
    "    3.1. чтобы работать с текстом, сохраните его в переменную\n",
    "\n"
   ]
  },
  {
   "cell_type": "code",
   "execution_count": 4,
   "metadata": {
    "colab": {},
    "colab_type": "code",
    "id": "OY3JW9ZpwAkS"
   },
   "outputs": [
    {
     "name": "stdout",
     "output_type": "stream",
     "text": [
      "Mops — drevnyaya kitayskaya poroda. \n",
      "V rannih kitayskih rukopisyah upominayutsya «kvadratnye, nizkie sobaki s korotkoy mordoy». \n",
      "V Kitae sushchestvovali sobaki «Ha Pa» i «Lo Tsze». Dve eti raznovidnosti byli ochen' shozhi i razlichalis' tol'ko dlinoy shersti. \n",
      "«Ha Pa» byli dlinnoshyorstnymi. \n",
      "Veroyatno predkami mopsov byli «Lo Tsze», oni pohodili na pekinesov, no obladali korotkoy sherst'yu. \n",
      "Mopsy byli sobakami znati i prozhivali v bogatyh domah. V te vremena u mopsov eshchyo ne bylo stol' glubokih morshchin, no chetkiy risunok skladok na lbu proyavlyalsya i byl shozh s ieroglifami.\n"
     ]
    }
   ],
   "source": [
    "d = {\n",
    "'а':'a',\n",
    "'б':'b',\n",
    "'в':'v',\n",
    "'г':'g',\n",
    "'д':'d',\n",
    "'е':'e',\n",
    "'ё':'yo',\n",
    "'ж':'zh',\n",
    "'з':'z',\n",
    "'и':'i',\n",
    "'й':'y',\n",
    "'к':'k',\n",
    "'л':'l',\n",
    "'м':'m',\n",
    "'н':'n',\n",
    "'о':'o',\n",
    "'п':'p',\n",
    "'р':'r',\n",
    "'с':'s',\n",
    "'т':'t',\n",
    "'у':'u',\n",
    "'ф':'f',\n",
    "'х':'h',\n",
    "'ц':'ts',\n",
    "'ч':'ch',\n",
    "'ш':'sh',\n",
    "'щ':'shch',\n",
    "'ъ':'y',\n",
    "'ы':'y',\n",
    "'ь':\"'\",\n",
    "'э':'e',\n",
    "'ю':'yu',\n",
    "'я':'ya',\n",
    "\n",
    "'А':'A',\n",
    "'Б':'B',\n",
    "'В':'V',\n",
    "'Г':'G',\n",
    "'Д':'D',\n",
    "'Е':'E',\n",
    "'Ё':'Yo',\n",
    "'Ж':'Zh',\n",
    "'З':'Z',\n",
    "'И':'I',\n",
    "'Й':'Y',\n",
    "'К':'K',\n",
    "'Л':'L',\n",
    "'М':'M',\n",
    "'Н':'N',\n",
    "'О':'O',\n",
    "'П':'P',\n",
    "'Р':'R',\n",
    "'С':'S',\n",
    "'Т':'T',\n",
    "'У':'U',\n",
    "'Ф':'F',\n",
    "'Х':'H',\n",
    "'Ц':'Ts',\n",
    "'Ч':'Ch',\n",
    "'Ш':'Sh',\n",
    "'Щ':'Shch',\n",
    "'Ъ':'Y',\n",
    "'Ы':'Y',\n",
    "'Ь':\"'\",\n",
    "'Э':'E',\n",
    "'Ю':'Yu',\n",
    "'Я':'Ya',\n",
    "}\n",
    "\n",
    "rus = \"\"\"Мопс — древняя китайская порода. \n",
    "В ранних китайских рукописях упоминаются «квадратные, низкие собаки с короткой мордой». \n",
    "В Китае существовали собаки «Ха Па» и «Ло Цзе». Две эти разновидности были очень схожи и различались только длиной шерсти. \n",
    "«Ха Па» были длинношёрстными. \n",
    "Вероятно предками мопсов были «Ло Цзе», они походили на пекинесов, но обладали короткой шерстью. \n",
    "Мопсы были собаками знати и проживали в богатых домах. В те времена у мопсов ещё не было столь глубоких морщин, но четкий рисунок складок на лбу проявлялся и был схож с иероглифами.\"\"\"\n",
    "rus = list(rus)\n",
    "\n",
    "def translit(text):\n",
    "    l = []\n",
    "    for i in text:\n",
    "        if i.isalpha():\n",
    "            eng = d.get(i)\n",
    "            l.append(eng)\n",
    "        else:\n",
    "            l.append(i)\n",
    "    print(''.join(l))\n",
    "\n",
    "translit(rus)"
   ]
  },
  {
   "cell_type": "code",
   "execution_count": null,
   "metadata": {},
   "outputs": [],
   "source": []
  }
 ],
 "metadata": {
  "colab": {
   "collapsed_sections": [],
   "include_colab_link": true,
   "name": "Sat_02Nov_19.ipynb",
   "provenance": []
  },
  "kernelspec": {
   "display_name": "Python 3",
   "language": "python",
   "name": "python3"
  },
  "language_info": {
   "codemirror_mode": {
    "name": "ipython",
    "version": 3
   },
   "file_extension": ".py",
   "mimetype": "text/x-python",
   "name": "python",
   "nbconvert_exporter": "python",
   "pygments_lexer": "ipython3",
   "version": "3.8.4"
  }
 },
 "nbformat": 4,
 "nbformat_minor": 1
}
