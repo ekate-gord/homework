{
 "cells": [
  {
   "cell_type": "markdown",
   "metadata": {
    "colab_type": "text",
    "id": "hAgT52fP26V2"
   },
   "source": [
    "##homework"
   ]
  },
  {
   "cell_type": "markdown",
   "metadata": {
    "colab_type": "text",
    "id": "cUiYXrAi3MMe"
   },
   "source": [
    "с помощью словаря создайте простой транслитератор: нужно, чтобы программа принимала с клавиатуры (у нас есть специальный оператор ввода с клавиатуры) слова, записанные кириллицей, и печатала результат латиницей. \n",
    "\n",
    "Пример: *собака >> sobaka*"
   ]
  },
  {
   "cell_type": "code",
   "execution_count": null,
   "metadata": {
    "colab": {},
    "colab_type": "code",
    "id": "rMLAHbTHUmqz"
   },
   "outputs": [],
   "source": [
    "d = {\n",
    "'а':'a',\n",
    "'б':'b',\n",
    "'в':'v',\n",
    "'г':'g',\n",
    "'д':'d',\n",
    "'е':'e',\n",
    "'ё':'yo',\n",
    "'ж':'zh',\n",
    "'з':'z',\n",
    "'и':'i',\n",
    "'й':'y',\n",
    "'к':'k',\n",
    "'л':'l',\n",
    "'м':'m',\n",
    "'н':'n',\n",
    "'о':'o',\n",
    "'п':'p',\n",
    "'р':'r',\n",
    "'с':'s',\n",
    "'т':'t',\n",
    "'у':'u',\n",
    "'ф':'f',\n",
    "'х':'h',\n",
    "'ц':'ts',\n",
    "'ч':'ch',\n",
    "'ш':'sh',\n",
    "'щ':'shch',\n",
    "'ъ':'y',\n",
    "'ы':'y',\n",
    "'ь':\"'\",\n",
    "'э':'e',\n",
    "'ю':'yu',\n",
    "'я':'ya',\n",
    "\n",
    "'А':'A',\n",
    "'Б':'B',\n",
    "'В':'V',\n",
    "'Г':'G',\n",
    "'Д':'D',\n",
    "'Е':'E',\n",
    "'Ё':'Yo',\n",
    "'Ж':'Zh',\n",
    "'З':'Z',\n",
    "'И':'I',\n",
    "'Й':'Y',\n",
    "'К':'K',\n",
    "'Л':'L',\n",
    "'М':'M',\n",
    "'Н':'N',\n",
    "'О':'O',\n",
    "'П':'P',\n",
    "'Р':'R',\n",
    "'С':'S',\n",
    "'Т':'T',\n",
    "'У':'U',\n",
    "'Ф':'F',\n",
    "'Х':'H',\n",
    "'Ц':'Ts',\n",
    "'Ч':'Ch',\n",
    "'Ш':'Sh',\n",
    "'Щ':'Shch',\n",
    "'Ъ':'Y',\n",
    "'Ы':'Y',\n",
    "'Ь':\"'\",\n",
    "'Э':'E',\n",
    "'Ю':'Yu',\n",
    "'Я':'Ya',\n",
    "}\n",
    "l = []\n",
    "rus = input()\n",
    "rus = list(rus)\n",
    "for i in rus:\n",
    "    eng = d.get(i)\n",
    "    l.append(eng)\n",
    "print(''.join(l))"
   ]
  },
  {
   "cell_type": "code",
   "execution_count": null,
   "metadata": {},
   "outputs": [],
   "source": []
  }
 ],
 "metadata": {
  "colab": {
   "collapsed_sections": [
    "YPY75dCcrW7f",
    "LKlVNlBfjJHx",
    "zDDJ_qsdqvk-"
   ],
   "include_colab_link": true,
   "name": "python_30Oct_2019.ipynb",
   "provenance": []
  },
  "kernelspec": {
   "display_name": "Python 3",
   "language": "python",
   "name": "python3"
  },
  "language_info": {
   "codemirror_mode": {
    "name": "ipython",
    "version": 3
   },
   "file_extension": ".py",
   "mimetype": "text/x-python",
   "name": "python",
   "nbconvert_exporter": "python",
   "pygments_lexer": "ipython3",
   "version": "3.8.4"
  }
 },
 "nbformat": 4,
 "nbformat_minor": 1
}
