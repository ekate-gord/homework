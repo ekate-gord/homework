{
 "cells": [
  {
   "cell_type": "markdown",
   "metadata": {
    "id": "OaRaw_Xhe_WW"
   },
   "source": [
    "## домашнее задание: \n",
    "\n"
   ]
  },
  {
   "cell_type": "code",
   "execution_count": null,
   "metadata": {
    "id": "7ULyIqr9rjqZ"
   },
   "outputs": [],
   "source": [
    "# задание 1\n",
    "# какие из этих строк можно конкатенировать? Какие умножать? Какие вычитать? Запишите все результаты, которые у Вас получились\n",
    "a = 23\n",
    "b = 34.02\n",
    "c = \"python is cool\"\n",
    "d = \"you are cool, too\"\n",
    "print(a+b)\n",
    "print(a*b)\n",
    "print(a-b)\n",
    "print(b-a)\n",
    "print(c*a)\n",
    "print(d*a)\n",
    "print(c+d)\n",
    "print(d+c)\n"
   ]
  },
  {
   "cell_type": "code",
   "execution_count": 3,
   "metadata": {
    "id": "rFbWmOQgiP3d"
   },
   "outputs": [
    {
     "name": "stdout",
     "output_type": "stream",
     "text": [
      "Привет, меня зовут Катя\n",
      "Привет, меня зовут Катя\n",
      "True\n"
     ]
    }
   ],
   "source": [
    "# задание 2\n",
    "\"\"\"\n",
    "Придумайте такую строку (на любом знакомом Вам языке),чтобы она состояла из трех других (повторы строки разрешены).\n",
    "Напишите код. Если вы можете сделать это более, чем одним способом, напишите все способы\n",
    "\"\"\"\n",
    "line = \"Привет, меня зовут Катя\"\n",
    "print(line)\n",
    "line1 = \"Привет, \"\n",
    "line2 = \"меня зовут \"\n",
    "line3 = \"Катя\"\n",
    "Line = line1+line2+line3\n",
    "print(Line)\n",
    "print(line == Line)"
   ]
  },
  {
   "cell_type": "code",
   "execution_count": 6,
   "metadata": {
    "id": "axJ6u-qwsOxy"
   },
   "outputs": [
    {
     "name": "stdout",
     "output_type": "stream",
     "text": [
      "спаниель\n",
      "True\n"
     ]
    }
   ],
   "source": [
    "# задание 3\n",
    "\"\"\"\n",
    "Как из слова \"апельсин\" сделать слово \"спаниель\" ? \n",
    "Подсказка: вам помогут срезы и операции с индексами\n",
    "\"\"\"\n",
    "word1 = \"апельсин\"\n",
    "word2 = \"спаниель\"\n",
    "word = word1[-3]+word1[1]+word1[0]+word1[-1]+word1[-2]+word1[2:5]\n",
    "print(word)\n",
    "print(word == word2)"
   ]
  },
  {
   "cell_type": "code",
   "execution_count": 11,
   "metadata": {
    "colab": {
     "base_uri": "https://localhost:8080/",
     "height": 34
    },
    "id": "-RcJ1FISsSPx",
    "outputId": "986404b1-a919-40ae-f471-59af4f517c1e"
   },
   "outputs": [
    {
     "name": "stdout",
     "output_type": "stream",
     "text": [
      "WOW,NOEL SEES LEON\n",
      "wow,noel sees leon\n",
      "noel sees leon,wow\n"
     ]
    }
   ],
   "source": [
    "# задание 4 (выполняется по желанию)\n",
    "\"\"\"элементы в переменной text преобразуйте в нижний регистр, а затем запишите наоборот, с последнего элемента по первый\"\"\"\n",
    "text = \"WOW,NOEL SEES LEON\"\n",
    "print(text)\n",
    "text2 = text.lower()\n",
    "print(text2)\n",
    "print(text2[-1]+text2[-2]+text2[-3]+text2[-4]+text2[-5]+text2[-6]+text2[-7]+text2[-8]+text2[-9]+text2[8]+text2[7]+text2[6]+text2[5]+text2[4]+text2[3]+text2[2]+text2[1]+text2[0])\n"
   ]
  }
 ],
 "metadata": {
  "colab": {
   "collapsed_sections": [],
   "name": "python_intro.ipynb",
   "provenance": []
  },
  "kernelspec": {
   "display_name": "Python 3",
   "language": "python",
   "name": "python3"
  },
  "language_info": {
   "codemirror_mode": {
    "name": "ipython",
    "version": 3
   },
   "file_extension": ".py",
   "mimetype": "text/x-python",
   "name": "python",
   "nbconvert_exporter": "python",
   "pygments_lexer": "ipython3",
   "version": "3.8.4"
  }
 },
 "nbformat": 4,
 "nbformat_minor": 1
}
